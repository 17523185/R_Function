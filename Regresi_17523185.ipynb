{
 "cells": [
  {
   "cell_type": "code",
   "execution_count": 20,
   "metadata": {},
   "outputs": [
    {
     "data": {
      "text/html": [
       "<table>\n",
       "<thead><tr><th scope=col>Obs.no.</th><th scope=col>x1</th><th scope=col>x2</th><th scope=col>y1</th><th scope=col>y2</th><th scope=col>y3</th><th scope=col>y4</th><th scope=col>y5</th></tr></thead>\n",
       "<tbody>\n",
       "\t<tr><td> 1      </td><td>17.6403 </td><td>39.2009 </td><td>13.9218 </td><td>13.3960 </td><td>13.9597 </td><td>12.6844 </td><td> 99.4237</td></tr>\n",
       "\t<tr><td> 2      </td><td> 9.3786 </td><td>20.2735 </td><td> 3.1704 </td><td> 2.5463 </td><td> 3.5158 </td><td> 3.3700 </td><td> 47.8476</td></tr>\n",
       "\t<tr><td> 3      </td><td>20.0313 </td><td>33.7959 </td><td>16.6045 </td><td>16.7703 </td><td>16.6909 </td><td>15.9766 </td><td> 89.1535</td></tr>\n",
       "\t<tr><td> 4      </td><td>23.4556 </td><td>48.6115 </td><td>23.3931 </td><td>22.7679 </td><td>23.2650 </td><td>22.0821 </td><td>143.1316</td></tr>\n",
       "\t<tr><td> 5      </td><td>24.4938 </td><td>47.3454 </td><td>22.5413 </td><td>23.6277 </td><td>22.5428 </td><td>23.2443 </td><td>124.6998</td></tr>\n",
       "\t<tr><td> 6      </td><td> 8.8475 </td><td>18.0954 </td><td> 3.6005 </td><td> 3.4520 </td><td> 3.2509 </td><td> 3.2185 </td><td> 51.5796</td></tr>\n",
       "\t<tr><td> 7      </td><td>12.4387 </td><td>36.8393 </td><td> 7.0541 </td><td> 7.1548 </td><td> 7.3025 </td><td> 6.3440 </td><td> 85.2724</td></tr>\n",
       "\t<tr><td> 8      </td><td>16.9730 </td><td>23.8867 </td><td>11.6219 </td><td>11.3104 </td><td>12.1338 </td><td>11.3862 </td><td> 56.2343</td></tr>\n",
       "\t<tr><td> 9      </td><td>15.8257 </td><td>34.4040 </td><td>10.5641 </td><td>10.4255 </td><td>11.0111 </td><td>10.0286 </td><td> 78.8456</td></tr>\n",
       "\t<tr><td>10      </td><td>11.3019 </td><td>25.5353 </td><td> 5.4019 </td><td> 4.9330 </td><td> 5.7994 </td><td> 5.1186 </td><td> 59.3942</td></tr>\n",
       "\t<tr><td>11      </td><td>10.1429 </td><td>25.7460 </td><td> 5.6991 </td><td> 5.3531 </td><td> 5.0927 </td><td> 4.5023 </td><td> 72.3346</td></tr>\n",
       "\t<tr><td>12      </td><td>24.7699 </td><td>46.6496 </td><td>23.3117 </td><td>22.7988 </td><td>23.3085 </td><td>23.8442 </td><td>127.0565</td></tr>\n",
       "\t<tr><td>13      </td><td>15.0091 </td><td>19.8466 </td><td> 9.2083 </td><td> 9.0893 </td><td> 9.8289 </td><td> 8.9375 </td><td> 46.0303</td></tr>\n",
       "\t<tr><td>14      </td><td>22.2189 </td><td>48.5994 </td><td>19.6985 </td><td>18.9638 </td><td>19.7069 </td><td>19.4509 </td><td>124.3711</td></tr>\n",
       "\t<tr><td>15      </td><td>23.9500 </td><td>42.8474 </td><td>21.2514 </td><td>20.9920 </td><td>21.2802 </td><td>22.1390 </td><td>110.1434</td></tr>\n",
       "\t<tr><td>16      </td><td>24.4002 </td><td>52.2238 </td><td>20.9930 </td><td>20.9675 </td><td>21.0291 </td><td>22.6793 </td><td>122.8895</td></tr>\n",
       "\t<tr><td>17      </td><td> 9.8515 </td><td>24.6377 </td><td> 4.8817 </td><td> 5.0274 </td><td> 4.5379 </td><td> 4.1080 </td><td> 66.1286</td></tr>\n",
       "\t<tr><td>18      </td><td>16.6287 </td><td>19.5046 </td><td>12.3051 </td><td>11.6948 </td><td>12.4660 </td><td>11.2527 </td><td> 55.9489</td></tr>\n",
       "\t<tr><td>19      </td><td>16.2147 </td><td>25.3849 </td><td>11.2199 </td><td>11.5920 </td><td>11.5883 </td><td>10.5642 </td><td> 62.6500</td></tr>\n",
       "\t<tr><td>20      </td><td>21.9663 </td><td>34.9375 </td><td>18.9276 </td><td>18.5008 </td><td>18.9919 </td><td>18.9195 </td><td> 93.0904</td></tr>\n",
       "\t<tr><td>21      </td><td>18.5101 </td><td>26.1820 </td><td>13.9596 </td><td>13.9077 </td><td>14.2654 </td><td>13.5805 </td><td> 66.0775</td></tr>\n",
       "\t<tr><td>22      </td><td> 0.2076 </td><td>-1.2737 </td><td>-7.1103 </td><td>-6.7387 </td><td>-7.7353 </td><td>-2.0012 </td><td>  2.7535</td></tr>\n",
       "\t<tr><td>23      </td><td>21.5161 </td><td>48.1683 </td><td>16.4172 </td><td>16.5973 </td><td>16.7625 </td><td>17.6611 </td><td>103.4084</td></tr>\n",
       "\t<tr><td>24      </td><td>24.3203 </td><td>52.8428 </td><td>24.2173 </td><td>24.4594 </td><td>24.1679 </td><td>23.4777 </td><td>150.6211</td></tr>\n",
       "\t<tr><td>25      </td><td>19.4203 </td><td>43.0257 </td><td>16.2594 </td><td>15.9693 </td><td>16.2629 </td><td>15.2005 </td><td>110.1987</td></tr>\n",
       "\t<tr><td>26      </td><td>19.7370 </td><td>35.0284 </td><td>17.2342 </td><td>16.7697 </td><td>17.1157 </td><td>15.8242 </td><td> 99.2320</td></tr>\n",
       "\t<tr><td>27      </td><td> 7.5185 </td><td>14.3866 </td><td> 1.8149 </td><td> 1.2048 </td><td> 1.5235 </td><td> 2.1031 </td><td> 41.5054</td></tr>\n",
       "\t<tr><td>28      </td><td>13.3652 </td><td>30.9772 </td><td> 8.9937 </td><td> 9.1953 </td><td> 8.8600 </td><td> 7.5635 </td><td> 80.9585</td></tr>\n",
       "\t<tr><td>29      </td><td>19.4565 </td><td>52.1138 </td><td>17.3487 </td><td>16.8101 </td><td>17.1207 </td><td>15.5469 </td><td>136.7723</td></tr>\n",
       "\t<tr><td>30      </td><td>12.7700 </td><td>25.8574 </td><td> 9.0736 </td><td> 8.3598 </td><td> 8.5300 </td><td> 7.1479 </td><td> 76.5666</td></tr>\n",
       "\t<tr><td>...</td><td>...</td><td>...</td><td>...</td><td>...</td><td>...</td><td>...</td><td>...</td></tr>\n",
       "\t<tr><td> 71     </td><td> 3.6776 </td><td>11.0228 </td><td>-3.4188 </td><td>-3.3348 </td><td>-3.4054 </td><td>-0.5819 </td><td> 26.5166</td></tr>\n",
       "\t<tr><td> 72     </td><td>10.9648 </td><td>33.1877 </td><td> 5.2969 </td><td> 6.1139 </td><td> 5.5266 </td><td> 4.8776 </td><td> 76.8081</td></tr>\n",
       "\t<tr><td> 73     </td><td> 4.8449 </td><td>13.7722 </td><td>-2.1491 </td><td>-2.5853 </td><td>-1.9836 </td><td> 0.0558 </td><td> 31.9589</td></tr>\n",
       "\t<tr><td> 74     </td><td> 8.3075 </td><td>-2.6455 </td><td> 3.2867 </td><td> 2.7870 </td><td> 2.6842 </td><td> 2.8692 </td><td> 12.3119</td></tr>\n",
       "\t<tr><td> 75     </td><td>16.2833 </td><td>23.0362 </td><td>12.4308 </td><td>11.9733 </td><td>12.4041 </td><td>10.9680 </td><td> 67.0406</td></tr>\n",
       "\t<tr><td> 76     </td><td>20.6828 </td><td>39.9200 </td><td>17.3535 </td><td>19.5369 </td><td>17.4398 </td><td>16.9345 </td><td>101.6935</td></tr>\n",
       "\t<tr><td> 77     </td><td> 2.6962 </td><td>12.0849 </td><td>-5.9770 </td><td>-6.6184 </td><td>-4.7750 </td><td>-1.4785 </td><td> 16.7619</td></tr>\n",
       "\t<tr><td> 78     </td><td>20.6046 </td><td>43.2090 </td><td>18.0516 </td><td>17.8759 </td><td>17.9996 </td><td>17.0402 </td><td>114.5409</td></tr>\n",
       "\t<tr><td> 79     </td><td>20.1717 </td><td>39.9069 </td><td>17.3742 </td><td>23.0453 </td><td>17.3434 </td><td>16.3523 </td><td>106.3051</td></tr>\n",
       "\t<tr><td> 80     </td><td>17.9013 </td><td>24.7773 </td><td>12.0607 </td><td>12.5433 </td><td>12.7183 </td><td>12.4215 </td><td> 53.4032</td></tr>\n",
       "\t<tr><td> 81     </td><td>13.8959 </td><td>23.5838 </td><td> 8.9241 </td><td> 9.8941 </td><td> 9.1221 </td><td> 7.9513 </td><td> 60.9708</td></tr>\n",
       "\t<tr><td> 82     </td><td>16.9794 </td><td>30.6268 </td><td>13.0402 </td><td>12.5449 </td><td>13.0992 </td><td>11.7917 </td><td> 81.0053</td></tr>\n",
       "\t<tr><td> 83     </td><td> 6.1615 </td><td>10.3864 </td><td> 0.1826 </td><td> 0.2503 </td><td>-0.1797 </td><td> 1.1206 </td><td> 32.3211</td></tr>\n",
       "\t<tr><td> 84     </td><td>15.7631 </td><td>28.3332 </td><td>12.4338 </td><td>11.8204 </td><td>12.1641 </td><td>10.4994 </td><td> 82.2099</td></tr>\n",
       "\t<tr><td> 85     </td><td> 1.1538 </td><td>-0.8576 </td><td>-7.5805 </td><td>-6.0229 </td><td>-6.6049 </td><td>-2.0974 </td><td> -8.4546</td></tr>\n",
       "\t<tr><td> 86     </td><td> 6.0228 </td><td>12.3389 </td><td>-0.4241 </td><td>-0.7968 </td><td>-0.4601 </td><td> 0.9021 </td><td> 32.5851</td></tr>\n",
       "\t<tr><td> 87     </td><td> 2.0901 </td><td> 3.2351 </td><td>-5.9718 </td><td>-6.2429 </td><td>-5.4362 </td><td>-1.5588 </td><td>  4.4075</td></tr>\n",
       "\t<tr><td> 88     </td><td>12.6821 </td><td>13.7416 </td><td> 7.4726 </td><td> 6.9007 </td><td> 7.6599 </td><td> 6.6341 </td><td> 40.2954</td></tr>\n",
       "\t<tr><td> 89     </td><td> 9.6746 </td><td>29.9100 </td><td> 4.5644 </td><td> 5.1488 </td><td> 4.2756 </td><td> 3.9214 </td><td> 75.6823</td></tr>\n",
       "\t<tr><td> 90     </td><td> 5.9364 </td><td>16.8876 </td><td>-0.2331 </td><td>-0.3377 </td><td>-0.4973 </td><td> 0.9268 </td><td> 43.9668</td></tr>\n",
       "\t<tr><td> 91     </td><td>20.3944 </td><td>33.0906 </td><td>16.8993 </td><td>16.8444 </td><td>17.0087 </td><td>16.4730 </td><td> 86.9244</td></tr>\n",
       "\t<tr><td> 92     </td><td>18.9885 </td><td>37.7937 </td><td>14.5092 </td><td>13.9809 </td><td>14.8042 </td><td>14.2406 </td><td> 89.5116</td></tr>\n",
       "\t<tr><td> 93     </td><td>15.7877 </td><td>34.8303 </td><td>10.6808 </td><td>10.1094 </td><td>11.0691 </td><td>10.0276 </td><td> 80.9648</td></tr>\n",
       "\t<tr><td> 94     </td><td>15.2932 </td><td>26.3389 </td><td>12.4649 </td><td>12.1801 </td><td>11.9413 </td><td>10.0971 </td><td> 82.5815</td></tr>\n",
       "\t<tr><td> 95     </td><td> 1.3445 </td><td> 4.3427 </td><td>-5.3782 </td><td>-5.5613 </td><td>-6.2687 </td><td>-1.4637 </td><td> 17.8948</td></tr>\n",
       "\t<tr><td> 96     </td><td> 6.7669 </td><td>13.7527 </td><td> 1.2837 </td><td> 2.4175 </td><td> 0.6819 </td><td> 1.6511 </td><td> 42.5645</td></tr>\n",
       "\t<tr><td> 97     </td><td>13.0282 </td><td>19.4002 </td><td> 7.0472 </td><td> 6.6217 </td><td> 7.6400 </td><td> 6.7648 </td><td> 45.1813</td></tr>\n",
       "\t<tr><td> 98     </td><td>12.8519 </td><td>29.9997 </td><td> 7.6044 </td><td> 7.0454 </td><td> 7.8282 </td><td> 6.7933 </td><td> 72.3806</td></tr>\n",
       "\t<tr><td> 99     </td><td> 7.4013 </td><td>15.5155 </td><td> 1.7032 </td><td> 4.3476 </td><td> 1.3853 </td><td> 2.0224 </td><td> 43.8954</td></tr>\n",
       "\t<tr><td>100     </td><td> 3.9815 </td><td>-9.7943 </td><td>-1.2985 </td><td>-1.2757 </td><td>-2.7484 </td><td> 0.0807 </td><td> -0.8153</td></tr>\n",
       "</tbody>\n",
       "</table>\n"
      ],
      "text/latex": [
       "\\begin{tabular}{r|llllllll}\n",
       " Obs.no. & x1 & x2 & y1 & y2 & y3 & y4 & y5\\\\\n",
       "\\hline\n",
       "\t  1       & 17.6403  & 39.2009  & 13.9218  & 13.3960  & 13.9597  & 12.6844  &  99.4237\\\\\n",
       "\t  2       &  9.3786  & 20.2735  &  3.1704  &  2.5463  &  3.5158  &  3.3700  &  47.8476\\\\\n",
       "\t  3       & 20.0313  & 33.7959  & 16.6045  & 16.7703  & 16.6909  & 15.9766  &  89.1535\\\\\n",
       "\t  4       & 23.4556  & 48.6115  & 23.3931  & 22.7679  & 23.2650  & 22.0821  & 143.1316\\\\\n",
       "\t  5       & 24.4938  & 47.3454  & 22.5413  & 23.6277  & 22.5428  & 23.2443  & 124.6998\\\\\n",
       "\t  6       &  8.8475  & 18.0954  &  3.6005  &  3.4520  &  3.2509  &  3.2185  &  51.5796\\\\\n",
       "\t  7       & 12.4387  & 36.8393  &  7.0541  &  7.1548  &  7.3025  &  6.3440  &  85.2724\\\\\n",
       "\t  8       & 16.9730  & 23.8867  & 11.6219  & 11.3104  & 12.1338  & 11.3862  &  56.2343\\\\\n",
       "\t  9       & 15.8257  & 34.4040  & 10.5641  & 10.4255  & 11.0111  & 10.0286  &  78.8456\\\\\n",
       "\t 10       & 11.3019  & 25.5353  &  5.4019  &  4.9330  &  5.7994  &  5.1186  &  59.3942\\\\\n",
       "\t 11       & 10.1429  & 25.7460  &  5.6991  &  5.3531  &  5.0927  &  4.5023  &  72.3346\\\\\n",
       "\t 12       & 24.7699  & 46.6496  & 23.3117  & 22.7988  & 23.3085  & 23.8442  & 127.0565\\\\\n",
       "\t 13       & 15.0091  & 19.8466  &  9.2083  &  9.0893  &  9.8289  &  8.9375  &  46.0303\\\\\n",
       "\t 14       & 22.2189  & 48.5994  & 19.6985  & 18.9638  & 19.7069  & 19.4509  & 124.3711\\\\\n",
       "\t 15       & 23.9500  & 42.8474  & 21.2514  & 20.9920  & 21.2802  & 22.1390  & 110.1434\\\\\n",
       "\t 16       & 24.4002  & 52.2238  & 20.9930  & 20.9675  & 21.0291  & 22.6793  & 122.8895\\\\\n",
       "\t 17       &  9.8515  & 24.6377  &  4.8817  &  5.0274  &  4.5379  &  4.1080  &  66.1286\\\\\n",
       "\t 18       & 16.6287  & 19.5046  & 12.3051  & 11.6948  & 12.4660  & 11.2527  &  55.9489\\\\\n",
       "\t 19       & 16.2147  & 25.3849  & 11.2199  & 11.5920  & 11.5883  & 10.5642  &  62.6500\\\\\n",
       "\t 20       & 21.9663  & 34.9375  & 18.9276  & 18.5008  & 18.9919  & 18.9195  &  93.0904\\\\\n",
       "\t 21       & 18.5101  & 26.1820  & 13.9596  & 13.9077  & 14.2654  & 13.5805  &  66.0775\\\\\n",
       "\t 22       &  0.2076  & -1.2737  & -7.1103  & -6.7387  & -7.7353  & -2.0012  &   2.7535\\\\\n",
       "\t 23       & 21.5161  & 48.1683  & 16.4172  & 16.5973  & 16.7625  & 17.6611  & 103.4084\\\\\n",
       "\t 24       & 24.3203  & 52.8428  & 24.2173  & 24.4594  & 24.1679  & 23.4777  & 150.6211\\\\\n",
       "\t 25       & 19.4203  & 43.0257  & 16.2594  & 15.9693  & 16.2629  & 15.2005  & 110.1987\\\\\n",
       "\t 26       & 19.7370  & 35.0284  & 17.2342  & 16.7697  & 17.1157  & 15.8242  &  99.2320\\\\\n",
       "\t 27       &  7.5185  & 14.3866  &  1.8149  &  1.2048  &  1.5235  &  2.1031  &  41.5054\\\\\n",
       "\t 28       & 13.3652  & 30.9772  &  8.9937  &  9.1953  &  8.8600  &  7.5635  &  80.9585\\\\\n",
       "\t 29       & 19.4565  & 52.1138  & 17.3487  & 16.8101  & 17.1207  & 15.5469  & 136.7723\\\\\n",
       "\t 30       & 12.7700  & 25.8574  &  9.0736  &  8.3598  &  8.5300  &  7.1479  &  76.5666\\\\\n",
       "\t ... & ... & ... & ... & ... & ... & ... & ...\\\\\n",
       "\t  71      &  3.6776  & 11.0228  & -3.4188  & -3.3348  & -3.4054  & -0.5819  &  26.5166\\\\\n",
       "\t  72      & 10.9648  & 33.1877  &  5.2969  &  6.1139  &  5.5266  &  4.8776  &  76.8081\\\\\n",
       "\t  73      &  4.8449  & 13.7722  & -2.1491  & -2.5853  & -1.9836  &  0.0558  &  31.9589\\\\\n",
       "\t  74      &  8.3075  & -2.6455  &  3.2867  &  2.7870  &  2.6842  &  2.8692  &  12.3119\\\\\n",
       "\t  75      & 16.2833  & 23.0362  & 12.4308  & 11.9733  & 12.4041  & 10.9680  &  67.0406\\\\\n",
       "\t  76      & 20.6828  & 39.9200  & 17.3535  & 19.5369  & 17.4398  & 16.9345  & 101.6935\\\\\n",
       "\t  77      &  2.6962  & 12.0849  & -5.9770  & -6.6184  & -4.7750  & -1.4785  &  16.7619\\\\\n",
       "\t  78      & 20.6046  & 43.2090  & 18.0516  & 17.8759  & 17.9996  & 17.0402  & 114.5409\\\\\n",
       "\t  79      & 20.1717  & 39.9069  & 17.3742  & 23.0453  & 17.3434  & 16.3523  & 106.3051\\\\\n",
       "\t  80      & 17.9013  & 24.7773  & 12.0607  & 12.5433  & 12.7183  & 12.4215  &  53.4032\\\\\n",
       "\t  81      & 13.8959  & 23.5838  &  8.9241  &  9.8941  &  9.1221  &  7.9513  &  60.9708\\\\\n",
       "\t  82      & 16.9794  & 30.6268  & 13.0402  & 12.5449  & 13.0992  & 11.7917  &  81.0053\\\\\n",
       "\t  83      &  6.1615  & 10.3864  &  0.1826  &  0.2503  & -0.1797  &  1.1206  &  32.3211\\\\\n",
       "\t  84      & 15.7631  & 28.3332  & 12.4338  & 11.8204  & 12.1641  & 10.4994  &  82.2099\\\\\n",
       "\t  85      &  1.1538  & -0.8576  & -7.5805  & -6.0229  & -6.6049  & -2.0974  &  -8.4546\\\\\n",
       "\t  86      &  6.0228  & 12.3389  & -0.4241  & -0.7968  & -0.4601  &  0.9021  &  32.5851\\\\\n",
       "\t  87      &  2.0901  &  3.2351  & -5.9718  & -6.2429  & -5.4362  & -1.5588  &   4.4075\\\\\n",
       "\t  88      & 12.6821  & 13.7416  &  7.4726  &  6.9007  &  7.6599  &  6.6341  &  40.2954\\\\\n",
       "\t  89      &  9.6746  & 29.9100  &  4.5644  &  5.1488  &  4.2756  &  3.9214  &  75.6823\\\\\n",
       "\t  90      &  5.9364  & 16.8876  & -0.2331  & -0.3377  & -0.4973  &  0.9268  &  43.9668\\\\\n",
       "\t  91      & 20.3944  & 33.0906  & 16.8993  & 16.8444  & 17.0087  & 16.4730  &  86.9244\\\\\n",
       "\t  92      & 18.9885  & 37.7937  & 14.5092  & 13.9809  & 14.8042  & 14.2406  &  89.5116\\\\\n",
       "\t  93      & 15.7877  & 34.8303  & 10.6808  & 10.1094  & 11.0691  & 10.0276  &  80.9648\\\\\n",
       "\t  94      & 15.2932  & 26.3389  & 12.4649  & 12.1801  & 11.9413  & 10.0971  &  82.5815\\\\\n",
       "\t  95      &  1.3445  &  4.3427  & -5.3782  & -5.5613  & -6.2687  & -1.4637  &  17.8948\\\\\n",
       "\t  96      &  6.7669  & 13.7527  &  1.2837  &  2.4175  &  0.6819  &  1.6511  &  42.5645\\\\\n",
       "\t  97      & 13.0282  & 19.4002  &  7.0472  &  6.6217  &  7.6400  &  6.7648  &  45.1813\\\\\n",
       "\t  98      & 12.8519  & 29.9997  &  7.6044  &  7.0454  &  7.8282  &  6.7933  &  72.3806\\\\\n",
       "\t  99      &  7.4013  & 15.5155  &  1.7032  &  4.3476  &  1.3853  &  2.0224  &  43.8954\\\\\n",
       "\t 100      &  3.9815  & -9.7943  & -1.2985  & -1.2757  & -2.7484  &  0.0807  &  -0.8153\\\\\n",
       "\\end{tabular}\n"
      ],
      "text/markdown": [
       "\n",
       "Obs.no. | x1 | x2 | y1 | y2 | y3 | y4 | y5 | \n",
       "|---|---|---|---|---|---|---|---|---|---|---|---|---|---|---|---|---|---|---|---|---|---|---|---|---|---|---|---|---|---|---|---|---|---|---|---|---|---|---|---|---|---|---|---|---|---|---|---|---|---|---|---|---|---|---|---|---|---|---|---|---|\n",
       "|  1       | 17.6403  | 39.2009  | 13.9218  | 13.3960  | 13.9597  | 12.6844  |  99.4237 | \n",
       "|  2       |  9.3786  | 20.2735  |  3.1704  |  2.5463  |  3.5158  |  3.3700  |  47.8476 | \n",
       "|  3       | 20.0313  | 33.7959  | 16.6045  | 16.7703  | 16.6909  | 15.9766  |  89.1535 | \n",
       "|  4       | 23.4556  | 48.6115  | 23.3931  | 22.7679  | 23.2650  | 22.0821  | 143.1316 | \n",
       "|  5       | 24.4938  | 47.3454  | 22.5413  | 23.6277  | 22.5428  | 23.2443  | 124.6998 | \n",
       "|  6       |  8.8475  | 18.0954  |  3.6005  |  3.4520  |  3.2509  |  3.2185  |  51.5796 | \n",
       "|  7       | 12.4387  | 36.8393  |  7.0541  |  7.1548  |  7.3025  |  6.3440  |  85.2724 | \n",
       "|  8       | 16.9730  | 23.8867  | 11.6219  | 11.3104  | 12.1338  | 11.3862  |  56.2343 | \n",
       "|  9       | 15.8257  | 34.4040  | 10.5641  | 10.4255  | 11.0111  | 10.0286  |  78.8456 | \n",
       "| 10       | 11.3019  | 25.5353  |  5.4019  |  4.9330  |  5.7994  |  5.1186  |  59.3942 | \n",
       "| 11       | 10.1429  | 25.7460  |  5.6991  |  5.3531  |  5.0927  |  4.5023  |  72.3346 | \n",
       "| 12       | 24.7699  | 46.6496  | 23.3117  | 22.7988  | 23.3085  | 23.8442  | 127.0565 | \n",
       "| 13       | 15.0091  | 19.8466  |  9.2083  |  9.0893  |  9.8289  |  8.9375  |  46.0303 | \n",
       "| 14       | 22.2189  | 48.5994  | 19.6985  | 18.9638  | 19.7069  | 19.4509  | 124.3711 | \n",
       "| 15       | 23.9500  | 42.8474  | 21.2514  | 20.9920  | 21.2802  | 22.1390  | 110.1434 | \n",
       "| 16       | 24.4002  | 52.2238  | 20.9930  | 20.9675  | 21.0291  | 22.6793  | 122.8895 | \n",
       "| 17       |  9.8515  | 24.6377  |  4.8817  |  5.0274  |  4.5379  |  4.1080  |  66.1286 | \n",
       "| 18       | 16.6287  | 19.5046  | 12.3051  | 11.6948  | 12.4660  | 11.2527  |  55.9489 | \n",
       "| 19       | 16.2147  | 25.3849  | 11.2199  | 11.5920  | 11.5883  | 10.5642  |  62.6500 | \n",
       "| 20       | 21.9663  | 34.9375  | 18.9276  | 18.5008  | 18.9919  | 18.9195  |  93.0904 | \n",
       "| 21       | 18.5101  | 26.1820  | 13.9596  | 13.9077  | 14.2654  | 13.5805  |  66.0775 | \n",
       "| 22       |  0.2076  | -1.2737  | -7.1103  | -6.7387  | -7.7353  | -2.0012  |   2.7535 | \n",
       "| 23       | 21.5161  | 48.1683  | 16.4172  | 16.5973  | 16.7625  | 17.6611  | 103.4084 | \n",
       "| 24       | 24.3203  | 52.8428  | 24.2173  | 24.4594  | 24.1679  | 23.4777  | 150.6211 | \n",
       "| 25       | 19.4203  | 43.0257  | 16.2594  | 15.9693  | 16.2629  | 15.2005  | 110.1987 | \n",
       "| 26       | 19.7370  | 35.0284  | 17.2342  | 16.7697  | 17.1157  | 15.8242  |  99.2320 | \n",
       "| 27       |  7.5185  | 14.3866  |  1.8149  |  1.2048  |  1.5235  |  2.1031  |  41.5054 | \n",
       "| 28       | 13.3652  | 30.9772  |  8.9937  |  9.1953  |  8.8600  |  7.5635  |  80.9585 | \n",
       "| 29       | 19.4565  | 52.1138  | 17.3487  | 16.8101  | 17.1207  | 15.5469  | 136.7723 | \n",
       "| 30       | 12.7700  | 25.8574  |  9.0736  |  8.3598  |  8.5300  |  7.1479  |  76.5666 | \n",
       "| ... | ... | ... | ... | ... | ... | ... | ... | \n",
       "|  71      |  3.6776  | 11.0228  | -3.4188  | -3.3348  | -3.4054  | -0.5819  |  26.5166 | \n",
       "|  72      | 10.9648  | 33.1877  |  5.2969  |  6.1139  |  5.5266  |  4.8776  |  76.8081 | \n",
       "|  73      |  4.8449  | 13.7722  | -2.1491  | -2.5853  | -1.9836  |  0.0558  |  31.9589 | \n",
       "|  74      |  8.3075  | -2.6455  |  3.2867  |  2.7870  |  2.6842  |  2.8692  |  12.3119 | \n",
       "|  75      | 16.2833  | 23.0362  | 12.4308  | 11.9733  | 12.4041  | 10.9680  |  67.0406 | \n",
       "|  76      | 20.6828  | 39.9200  | 17.3535  | 19.5369  | 17.4398  | 16.9345  | 101.6935 | \n",
       "|  77      |  2.6962  | 12.0849  | -5.9770  | -6.6184  | -4.7750  | -1.4785  |  16.7619 | \n",
       "|  78      | 20.6046  | 43.2090  | 18.0516  | 17.8759  | 17.9996  | 17.0402  | 114.5409 | \n",
       "|  79      | 20.1717  | 39.9069  | 17.3742  | 23.0453  | 17.3434  | 16.3523  | 106.3051 | \n",
       "|  80      | 17.9013  | 24.7773  | 12.0607  | 12.5433  | 12.7183  | 12.4215  |  53.4032 | \n",
       "|  81      | 13.8959  | 23.5838  |  8.9241  |  9.8941  |  9.1221  |  7.9513  |  60.9708 | \n",
       "|  82      | 16.9794  | 30.6268  | 13.0402  | 12.5449  | 13.0992  | 11.7917  |  81.0053 | \n",
       "|  83      |  6.1615  | 10.3864  |  0.1826  |  0.2503  | -0.1797  |  1.1206  |  32.3211 | \n",
       "|  84      | 15.7631  | 28.3332  | 12.4338  | 11.8204  | 12.1641  | 10.4994  |  82.2099 | \n",
       "|  85      |  1.1538  | -0.8576  | -7.5805  | -6.0229  | -6.6049  | -2.0974  |  -8.4546 | \n",
       "|  86      |  6.0228  | 12.3389  | -0.4241  | -0.7968  | -0.4601  |  0.9021  |  32.5851 | \n",
       "|  87      |  2.0901  |  3.2351  | -5.9718  | -6.2429  | -5.4362  | -1.5588  |   4.4075 | \n",
       "|  88      | 12.6821  | 13.7416  |  7.4726  |  6.9007  |  7.6599  |  6.6341  |  40.2954 | \n",
       "|  89      |  9.6746  | 29.9100  |  4.5644  |  5.1488  |  4.2756  |  3.9214  |  75.6823 | \n",
       "|  90      |  5.9364  | 16.8876  | -0.2331  | -0.3377  | -0.4973  |  0.9268  |  43.9668 | \n",
       "|  91      | 20.3944  | 33.0906  | 16.8993  | 16.8444  | 17.0087  | 16.4730  |  86.9244 | \n",
       "|  92      | 18.9885  | 37.7937  | 14.5092  | 13.9809  | 14.8042  | 14.2406  |  89.5116 | \n",
       "|  93      | 15.7877  | 34.8303  | 10.6808  | 10.1094  | 11.0691  | 10.0276  |  80.9648 | \n",
       "|  94      | 15.2932  | 26.3389  | 12.4649  | 12.1801  | 11.9413  | 10.0971  |  82.5815 | \n",
       "|  95      |  1.3445  |  4.3427  | -5.3782  | -5.5613  | -6.2687  | -1.4637  |  17.8948 | \n",
       "|  96      |  6.7669  | 13.7527  |  1.2837  |  2.4175  |  0.6819  |  1.6511  |  42.5645 | \n",
       "|  97      | 13.0282  | 19.4002  |  7.0472  |  6.6217  |  7.6400  |  6.7648  |  45.1813 | \n",
       "|  98      | 12.8519  | 29.9997  |  7.6044  |  7.0454  |  7.8282  |  6.7933  |  72.3806 | \n",
       "|  99      |  7.4013  | 15.5155  |  1.7032  |  4.3476  |  1.3853  |  2.0224  |  43.8954 | \n",
       "| 100      |  3.9815  | -9.7943  | -1.2985  | -1.2757  | -2.7484  |  0.0807  |  -0.8153 | \n",
       "\n",
       "\n"
      ],
      "text/plain": [
       "    Obs.no. x1      x2      y1      y2      y3      y4      y5      \n",
       "1    1      17.6403 39.2009 13.9218 13.3960 13.9597 12.6844  99.4237\n",
       "2    2       9.3786 20.2735  3.1704  2.5463  3.5158  3.3700  47.8476\n",
       "3    3      20.0313 33.7959 16.6045 16.7703 16.6909 15.9766  89.1535\n",
       "4    4      23.4556 48.6115 23.3931 22.7679 23.2650 22.0821 143.1316\n",
       "5    5      24.4938 47.3454 22.5413 23.6277 22.5428 23.2443 124.6998\n",
       "6    6       8.8475 18.0954  3.6005  3.4520  3.2509  3.2185  51.5796\n",
       "7    7      12.4387 36.8393  7.0541  7.1548  7.3025  6.3440  85.2724\n",
       "8    8      16.9730 23.8867 11.6219 11.3104 12.1338 11.3862  56.2343\n",
       "9    9      15.8257 34.4040 10.5641 10.4255 11.0111 10.0286  78.8456\n",
       "10  10      11.3019 25.5353  5.4019  4.9330  5.7994  5.1186  59.3942\n",
       "11  11      10.1429 25.7460  5.6991  5.3531  5.0927  4.5023  72.3346\n",
       "12  12      24.7699 46.6496 23.3117 22.7988 23.3085 23.8442 127.0565\n",
       "13  13      15.0091 19.8466  9.2083  9.0893  9.8289  8.9375  46.0303\n",
       "14  14      22.2189 48.5994 19.6985 18.9638 19.7069 19.4509 124.3711\n",
       "15  15      23.9500 42.8474 21.2514 20.9920 21.2802 22.1390 110.1434\n",
       "16  16      24.4002 52.2238 20.9930 20.9675 21.0291 22.6793 122.8895\n",
       "17  17       9.8515 24.6377  4.8817  5.0274  4.5379  4.1080  66.1286\n",
       "18  18      16.6287 19.5046 12.3051 11.6948 12.4660 11.2527  55.9489\n",
       "19  19      16.2147 25.3849 11.2199 11.5920 11.5883 10.5642  62.6500\n",
       "20  20      21.9663 34.9375 18.9276 18.5008 18.9919 18.9195  93.0904\n",
       "21  21      18.5101 26.1820 13.9596 13.9077 14.2654 13.5805  66.0775\n",
       "22  22       0.2076 -1.2737 -7.1103 -6.7387 -7.7353 -2.0012   2.7535\n",
       "23  23      21.5161 48.1683 16.4172 16.5973 16.7625 17.6611 103.4084\n",
       "24  24      24.3203 52.8428 24.2173 24.4594 24.1679 23.4777 150.6211\n",
       "25  25      19.4203 43.0257 16.2594 15.9693 16.2629 15.2005 110.1987\n",
       "26  26      19.7370 35.0284 17.2342 16.7697 17.1157 15.8242  99.2320\n",
       "27  27       7.5185 14.3866  1.8149  1.2048  1.5235  2.1031  41.5054\n",
       "28  28      13.3652 30.9772  8.9937  9.1953  8.8600  7.5635  80.9585\n",
       "29  29      19.4565 52.1138 17.3487 16.8101 17.1207 15.5469 136.7723\n",
       "30  30      12.7700 25.8574  9.0736  8.3598  8.5300  7.1479  76.5666\n",
       "... ...     ...     ...     ...     ...     ...     ...     ...     \n",
       "71   71      3.6776 11.0228 -3.4188 -3.3348 -3.4054 -0.5819  26.5166\n",
       "72   72     10.9648 33.1877  5.2969  6.1139  5.5266  4.8776  76.8081\n",
       "73   73      4.8449 13.7722 -2.1491 -2.5853 -1.9836  0.0558  31.9589\n",
       "74   74      8.3075 -2.6455  3.2867  2.7870  2.6842  2.8692  12.3119\n",
       "75   75     16.2833 23.0362 12.4308 11.9733 12.4041 10.9680  67.0406\n",
       "76   76     20.6828 39.9200 17.3535 19.5369 17.4398 16.9345 101.6935\n",
       "77   77      2.6962 12.0849 -5.9770 -6.6184 -4.7750 -1.4785  16.7619\n",
       "78   78     20.6046 43.2090 18.0516 17.8759 17.9996 17.0402 114.5409\n",
       "79   79     20.1717 39.9069 17.3742 23.0453 17.3434 16.3523 106.3051\n",
       "80   80     17.9013 24.7773 12.0607 12.5433 12.7183 12.4215  53.4032\n",
       "81   81     13.8959 23.5838  8.9241  9.8941  9.1221  7.9513  60.9708\n",
       "82   82     16.9794 30.6268 13.0402 12.5449 13.0992 11.7917  81.0053\n",
       "83   83      6.1615 10.3864  0.1826  0.2503 -0.1797  1.1206  32.3211\n",
       "84   84     15.7631 28.3332 12.4338 11.8204 12.1641 10.4994  82.2099\n",
       "85   85      1.1538 -0.8576 -7.5805 -6.0229 -6.6049 -2.0974  -8.4546\n",
       "86   86      6.0228 12.3389 -0.4241 -0.7968 -0.4601  0.9021  32.5851\n",
       "87   87      2.0901  3.2351 -5.9718 -6.2429 -5.4362 -1.5588   4.4075\n",
       "88   88     12.6821 13.7416  7.4726  6.9007  7.6599  6.6341  40.2954\n",
       "89   89      9.6746 29.9100  4.5644  5.1488  4.2756  3.9214  75.6823\n",
       "90   90      5.9364 16.8876 -0.2331 -0.3377 -0.4973  0.9268  43.9668\n",
       "91   91     20.3944 33.0906 16.8993 16.8444 17.0087 16.4730  86.9244\n",
       "92   92     18.9885 37.7937 14.5092 13.9809 14.8042 14.2406  89.5116\n",
       "93   93     15.7877 34.8303 10.6808 10.1094 11.0691 10.0276  80.9648\n",
       "94   94     15.2932 26.3389 12.4649 12.1801 11.9413 10.0971  82.5815\n",
       "95   95      1.3445  4.3427 -5.3782 -5.5613 -6.2687 -1.4637  17.8948\n",
       "96   96      6.7669 13.7527  1.2837  2.4175  0.6819  1.6511  42.5645\n",
       "97   97     13.0282 19.4002  7.0472  6.6217  7.6400  6.7648  45.1813\n",
       "98   98     12.8519 29.9997  7.6044  7.0454  7.8282  6.7933  72.3806\n",
       "99   99      7.4013 15.5155  1.7032  4.3476  1.3853  2.0224  43.8954\n",
       "100 100      3.9815 -9.7943 -1.2985 -1.2757 -2.7484  0.0807  -0.8153"
      ]
     },
     "metadata": {},
     "output_type": "display_data"
    }
   ],
   "source": [
    "dat = read.csv(\"regrex3.csv\")\n",
    "dat"
   ]
  },
  {
   "cell_type": "code",
   "execution_count": 21,
   "metadata": {},
   "outputs": [
    {
     "data": {
      "text/plain": [
       "\n",
       "Call:\n",
       "lm(formula = x1 ~ y4, data = dat)\n",
       "\n",
       "Residuals:\n",
       "    Min      1Q  Median      3Q     Max \n",
       "-3.4527 -0.6527  0.2445  0.9358  1.6260 \n",
       "\n",
       "Coefficients:\n",
       "            Estimate Std. Error t value Pr(>|t|)    \n",
       "(Intercept)   5.4390     0.1849   29.41   <2e-16 ***\n",
       "y4            0.8889     0.0147   60.45   <2e-16 ***\n",
       "---\n",
       "Signif. codes:  0 '***' 0.001 '**' 0.01 '*' 0.05 '.' 0.1 ' ' 1\n",
       "\n",
       "Residual standard error: 1.174 on 98 degrees of freedom\n",
       "Multiple R-squared:  0.9739,\tAdjusted R-squared:  0.9736 \n",
       "F-statistic:  3655 on 1 and 98 DF,  p-value: < 2.2e-16\n"
      ]
     },
     "metadata": {},
     "output_type": "display_data"
    }
   ],
   "source": [
    "model <-lm(x1 ~ y4, data=dat)\n",
    "summary(model)"
   ]
  },
  {
   "cell_type": "markdown",
   "metadata": {},
   "source": [
    "Berdasarkan hasil di atas, dapat diketahui bahwa intersepnya adalah **5.4390** dengan kemungkinan kesalahan ±0.1849 dan gradiennya adalah **0.8889** dengan kemungkinan kesalahan ±0.0147.\n",
    "\n",
    "Maka, persamaan untuk mencari prediksi dari model tersebut yaitu:\n",
    "\n",
    "$x1 = 5.4390 + 0.8889*y4$"
   ]
  },
  {
   "cell_type": "code",
   "execution_count": 19,
   "metadata": {},
   "outputs": [
    {
     "data": {
      "image/png": "[encoded data removed]",
      "text/plain": [
       "plot without title"
      ]
     },
     "metadata": {},
     "output_type": "display_data"
    }
   ],
   "source": [
    "plot(x1 ~ y4, data=dat)\n",
    "abline(model, col = \"red\", lwd = 1)"
   ]
  },
  {
   "cell_type": "code",
   "execution_count": 24,
   "metadata": {},
   "outputs": [
    {
     "data": {
      "text/html": [
       "'Memprediksi x1 jika y4 = 70'"
      ],
      "text/latex": [
       "'Memprediksi x1 jika y4 = 70'"
      ],
      "text/markdown": [
       "'Memprediksi x1 jika y4 = 70'"
      ],
      "text/plain": [
       "[1] \"Memprediksi x1 jika y4 = 70\""
      ]
     },
     "metadata": {},
     "output_type": "display_data"
    },
    {
     "data": {
      "text/html": [
       "<strong>1:</strong> 67.6584007415742"
      ],
      "text/latex": [
       "\\textbf{1:} 67.6584007415742"
      ],
      "text/markdown": [
       "**1:** 67.6584007415742"
      ],
      "text/plain": [
       "      1 \n",
       "67.6584 "
      ]
     },
     "metadata": {},
     "output_type": "display_data"
    }
   ],
   "source": [
    "\"Memprediksi x1 jika y4 = 70\"\n",
    "predict(model, data.frame(y4 = 70))"
   ]
  },
  {
   "cell_type": "code",
   "execution_count": 25,
   "metadata": {},
   "outputs": [
    {
     "data": {
      "text/plain": [
       "\n",
       "Call:\n",
       "lm(formula = x1 ~ poly(y4, degree = 2), data = dat)\n",
       "\n",
       "Coefficients:\n",
       "          (Intercept)  poly(y4, degree = 2)1  poly(y4, degree = 2)2  \n",
       "                14.08                  71.00                 -10.97  \n"
      ]
     },
     "metadata": {},
     "output_type": "display_data"
    }
   ],
   "source": [
    "poly_model <- lm(x1 ~ poly(y4,degree=2), data = dat)\n",
    "poly_model"
   ]
  },
  {
   "cell_type": "markdown",
   "metadata": {},
   "source": [
    "Berdasarkan hasil di atas, dapat diketahui bahwa intersepnya adalah **14.08**, $y4$ = **71.00** dan $y4^2$ = **-10.97**.\n",
    "\n",
    "Maka, persamaan untuk mencari prediksi dari model tersebut yaitu:\n",
    "\n",
    "$x1 = 14.08 + 71*y4 + (-10.97)*y4^2$"
   ]
  },
  {
   "cell_type": "code",
   "execution_count": 27,
   "metadata": {},
   "outputs": [
    {
     "data": {
      "image/png": "[encoded data removed]",
      "text/plain": [
       "plot without title"
      ]
     },
     "metadata": {},
     "output_type": "display_data"
    }
   ],
   "source": [
    "x <- with(dat, seq(min(y4), max(y4), length.out=2000))\n",
    "y <- predict(poly_model, newdata = data.frame(y4 = x))\n",
    "\n",
    "plot(x1 ~ y4, data = dat)\n",
    "lines(x, y, col = \"red\")"
   ]
  },
  {
   "cell_type": "code",
   "execution_count": null,
   "metadata": {},
   "outputs": [],
   "source": []
  }
 ],
 "metadata": {
  "kernelspec": {
   "display_name": "R",
   "language": "R",
   "name": "ir"
  },
  "language_info": {
   "codemirror_mode": "r",
   "file_extension": ".r",
   "mimetype": "text/x-r-source",
   "name": "R",
   "pygments_lexer": "r",
   "version": "3.4.3"
  }
 },
 "nbformat": 4,
 "nbformat_minor": 2
}
