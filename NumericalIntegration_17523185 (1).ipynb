{
 "cells": [
  {
   "cell_type": "code",
   "execution_count": 8,
   "metadata": {},
   "outputs": [],
   "source": [
    "library(polynom)\n",
    "library(ggplot2)"
   ]
  },
  {
   "cell_type": "code",
   "execution_count": 31,
   "metadata": {},
   "outputs": [],
   "source": [
    "f1 <- function(x) {\n",
    "  return(exp(3 * x) * sin(7 * x))\n",
    "}\n",
    "\n",
    "df <- data.frame(cbind(c(0, 1, 1, 0), c(0, pi/2, 0, 0)))"
   ]
  },
  {
   "cell_type": "code",
   "execution_count": 32,
   "metadata": {},
   "outputs": [
    {
     "data": {
      "text/plain": [
       "-0.2071068*x + 0.9003163*x^2 "
      ]
     },
     "metadata": {},
     "output_type": "display_data"
    }
   ],
   "source": [
    "curvedf <- data.frame(cbind(c(0, pi/8, pi/4), c(0, f(pi/8), f(pi/4))))\n",
    "poly.calc(curvedf$X1, curvedf$X2)"
   ]
  },
  {
   "cell_type": "code",
   "execution_count": 26,
   "metadata": {},
   "outputs": [
    {
     "data": {},
     "metadata": {},
     "output_type": "display_data"
    },
    {
     "data": {
      "image/png": "[encoded data removed]",
      "text/plain": [
       "plot without title"
      ]
     },
     "metadata": {},
     "output_type": "display_data"
    }
   ],
   "source": [
    "ggplot(data = data.frame(x = 0), mapping = aes(x = x)) + \n",
    "  stat_function(fun = f1, size = 1.05, alpha = 0.75, color='blue') + \n",
    "  geom_segment(aes(x = 0, y = 0, xend = 1, yend = f1(1))) + \n",
    "  geom_segment(aes(x = 1, y = 0, xend = 1, yend = f1(1))) + \n",
    "  geom_polygon(data = df, aes(x=X1, y=X2), fill = 'blue', alpha = 0.2) + \n",
    "  geom_area(stat = 'function', fun = f1, fill = 'black', alpha = 0.2, xlim = c(0, 1)) + \n",
    "  xlim(c(0,1))"
   ]
  },
  {
   "cell_type": "code",
   "execution_count": 24,
   "metadata": {},
   "outputs": [
    {
     "name": "stderr",
     "output_type": "stream",
     "text": [
      "Scale for 'x' is already present. Adding another scale for 'x', which will\n",
      "replace the existing scale.\n"
     ]
    },
    {
     "data": {},
     "metadata": {},
     "output_type": "display_data"
    },
    {
     "data": {
      "image/png": "[encoded data removed]",
      "text/plain": [
       "plot without title"
      ]
     },
     "metadata": {},
     "output_type": "display_data"
    }
   ],
   "source": [
    "# Plot the function and the trapezoidal and Simpson's rule approximations.\n",
    "f2 <- function(x) {\n",
    "  return(0.76232259*x + 0.317332129*x^2 )\n",
    "}\n",
    "ggplot(data = data.frame(x = 0), mapping = aes(x = x)) + \n",
    "  stat_function(fun = f1, color = 'blue') + xlim(c(0,1)) + \n",
    "  stat_function(fun = f2) + xlim(c(0,1)) + \n",
    "  geom_segment(aes(x = 0, y = 0, xend = 1, yend = f1(1))) + \n",
    "  geom_segment(aes(x = 1, y = 0, xend = 1, yend = f1(1))) + \n",
    "  geom_polygon(data = df, aes(x=X1, y=X2), fill = 'blue', alpha = 0.2) + \n",
    "  geom_area(stat = 'function', fun = f2, fill = 'red', alpha = 0.2, xlim = c(0, 1))"
   ]
  },
  {
   "cell_type": "code",
   "execution_count": 25,
   "metadata": {},
   "outputs": [
    {
     "data": {
      "text/html": [
       "6.59796429330286"
      ],
      "text/latex": [
       "6.59796429330286"
      ],
      "text/markdown": [
       "6.59796429330286"
      ],
      "text/plain": [
       "[1] 6.597964"
      ]
     },
     "metadata": {},
     "output_type": "display_data"
    },
    {
     "data": {
      "text/html": [
       "0.486938671333333"
      ],
      "text/latex": [
       "0.486938671333333"
      ],
      "text/markdown": [
       "0.486938671333333"
      ],
      "text/plain": [
       "[1] 0.4869387"
      ]
     },
     "metadata": {},
     "output_type": "display_data"
    }
   ],
   "source": [
    "trapezoid <- function(f, a, b) {\n",
    "  if (is.function(f) == FALSE) {\n",
    "    stop('f must be a function with one parameter (variable)')\n",
    "  }\n",
    "   \n",
    "  h <- b - a\n",
    "   \n",
    "  fxdx <- (h / 2) * (f(a) + f(b))\n",
    "   \n",
    "  return(fxdx)\n",
    "}\n",
    "trapezoid(f1, 0, 1)\n",
    "\n",
    "simpsons.rule <- function(f, a, b) {\n",
    "  if (is.function(f) == FALSE) {\n",
    "    stop('f must be a function with one parameter (variable)')\n",
    "  }\n",
    "   \n",
    "  h <- (b - a) / 2\n",
    "  x0 <- a\n",
    "  x1 <- a + h\n",
    "  x2 <- b\n",
    "   \n",
    "  s <- (h / 3) * (f(x0) + 4 * f(x1) + f(x2))\n",
    "   \n",
    "  return(s)\n",
    "}\n",
    "simpsons.rule(f2, 0, 1)"
   ]
  },
  {
   "cell_type": "code",
   "execution_count": null,
   "metadata": {},
   "outputs": [],
   "source": []
  }
 ],
 "metadata": {
  "kernelspec": {
   "display_name": "R",
   "language": "R",
   "name": "ir"
  },
  "language_info": {
   "codemirror_mode": "r",
   "file_extension": ".r",
   "mimetype": "text/x-r-source",
   "name": "R",
   "pygments_lexer": "r",
   "version": "3.4.3"
  }
 },
 "nbformat": 4,
 "nbformat_minor": 2
}
